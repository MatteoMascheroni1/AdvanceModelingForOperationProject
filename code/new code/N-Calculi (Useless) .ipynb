{
 "cells": [
  {
   "cell_type": "markdown",
   "id": "1c36fac7",
   "metadata": {},
   "source": [
    "# Checking the approximate number of N"
   ]
  },
  {
   "cell_type": "code",
   "execution_count": 2,
   "id": "5327bed6",
   "metadata": {},
   "outputs": [
    {
     "data": {
      "text/plain": [
       "(2000,)"
      ]
     },
     "execution_count": 2,
     "metadata": {},
     "output_type": "execute_result"
    }
   ],
   "source": [
    "import pandas as pd\n",
    "\n",
    "df = pd.read_csv(\"mean.csv\", header = None)\n",
    "df = df.iloc[0]\n",
    "df.shape"
   ]
  },
  {
   "cell_type": "code",
   "execution_count": 3,
   "id": "dbc2d292",
   "metadata": {},
   "outputs": [
    {
     "name": "stdout",
     "output_type": "stream",
     "text": [
      "2403.7919659333334 335935.7708092422\n"
     ]
    }
   ],
   "source": [
    "import statistics \n",
    "import math\n",
    "\n",
    "mean = statistics.mean(df)\n",
    "s = statistics.variance(df)\n",
    "\n",
    "print(mean, s)"
   ]
  },
  {
   "cell_type": "code",
   "execution_count": 4,
   "id": "7ed1d3fd",
   "metadata": {},
   "outputs": [
    {
     "name": "stdout",
     "output_type": "stream",
     "text": [
      "60.09479914833334\n",
      "357.7706648293515\n"
     ]
    }
   ],
   "source": [
    "# Calculating N\n",
    "\n",
    "import scipy.stats\n",
    "alpha = 0.05\n",
    "\n",
    "c = 0.025*mean\n",
    "print(c)\n",
    "quantile = scipy.stats.t.ppf(1 - alpha / 2, 1999)\n",
    "N = (s * quantile**2)/(c**2)\n",
    "print(N)"
   ]
  },
  {
   "cell_type": "code",
   "execution_count": 5,
   "id": "c039a093",
   "metadata": {},
   "outputs": [
    {
     "data": {
      "text/plain": [
       "25.40468370611682"
      ]
     },
     "execution_count": 5,
     "metadata": {},
     "output_type": "execute_result"
    }
   ],
   "source": [
    "c = quantile*(s/2000)**0.5\n",
    "c"
   ]
  }
 ],
 "metadata": {
  "kernelspec": {
   "display_name": "Python 3 (ipykernel)",
   "language": "python",
   "name": "python3"
  },
  "language_info": {
   "codemirror_mode": {
    "name": "ipython",
    "version": 3
   },
   "file_extension": ".py",
   "mimetype": "text/x-python",
   "name": "python",
   "nbconvert_exporter": "python",
   "pygments_lexer": "ipython3",
   "version": "3.9.7"
  }
 },
 "nbformat": 4,
 "nbformat_minor": 5
}
