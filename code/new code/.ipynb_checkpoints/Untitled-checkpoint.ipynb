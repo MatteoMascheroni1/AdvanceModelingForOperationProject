{
 "cells": [
  {
   "cell_type": "markdown",
   "id": "1c36fac7",
   "metadata": {},
   "source": [
    "# Checking the approximate number of N"
   ]
  },
  {
   "cell_type": "code",
   "execution_count": 2,
   "id": "5327bed6",
   "metadata": {},
   "outputs": [],
   "source": [
    "import pandas as pd\n",
    "\n",
    "df = pd.read_csv(\"mean.csv\", header = None)\n",
    "df = df.iloc[0]"
   ]
  },
  {
   "cell_type": "code",
   "execution_count": 4,
   "id": "dbc2d292",
   "metadata": {},
   "outputs": [
    {
     "name": "stdout",
     "output_type": "stream",
     "text": [
      "2367.4062570444444 343395.1582931026\n"
     ]
    }
   ],
   "source": [
    "import statistics \n",
    "import math\n",
    "\n",
    "mean = statistics.mean(df)\n",
    "s = statistics.variance(df)\n",
    "\n",
    "print(mean, s)"
   ]
  },
  {
   "cell_type": "code",
   "execution_count": 5,
   "id": "7ed1d3fd",
   "metadata": {},
   "outputs": [
    {
     "name": "stdout",
     "output_type": "stream",
     "text": [
      "2354.2355580307244\n"
     ]
    }
   ],
   "source": [
    "# Calculating N\n",
    "\n",
    "import scipy.stats\n",
    "alpha = 0.05\n",
    "\n",
    "c = 0.01*mean\n",
    "quantile = scipy.stats.t.ppf(1 - alpha / 2, 9999)\n",
    "N = (s * quantile**2)/(c**2)\n",
    "print(N)"
   ]
  }
 ],
 "metadata": {
  "kernelspec": {
   "display_name": "Python 3 (ipykernel)",
   "language": "python",
   "name": "python3"
  },
  "language_info": {
   "codemirror_mode": {
    "name": "ipython",
    "version": 3
   },
   "file_extension": ".py",
   "mimetype": "text/x-python",
   "name": "python",
   "nbconvert_exporter": "python",
   "pygments_lexer": "ipython3",
   "version": "3.9.7"
  }
 },
 "nbformat": 4,
 "nbformat_minor": 5
}
